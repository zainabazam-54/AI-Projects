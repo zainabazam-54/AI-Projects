{
 "cells": [
  {
   "cell_type": "code",
   "execution_count": 1,
   "id": "ac83880a",
   "metadata": {
    "_cell_guid": "b1076dfc-b9ad-4769-8c92-a6c4dae69d19",
    "_uuid": "8f2839f25d086af736a60e9eeb907d3b93b6e0e5",
    "execution": {
     "iopub.execute_input": "2025-09-03T13:04:34.098189Z",
     "iopub.status.busy": "2025-09-03T13:04:34.097872Z",
     "iopub.status.idle": "2025-09-03T13:04:36.168013Z",
     "shell.execute_reply": "2025-09-03T13:04:36.166759Z"
    },
    "papermill": {
     "duration": 2.078926,
     "end_time": "2025-09-03T13:04:36.169754",
     "exception": false,
     "start_time": "2025-09-03T13:04:34.090828",
     "status": "completed"
    },
    "tags": []
   },
   "outputs": [],
   "source": [
    "# This Python 3 environment comes with many helpful analytics libraries installed\n",
    "# It is defined by the kaggle/python Docker image: https://github.com/kaggle/docker-python\n",
    "# For example, here's several helpful packages to load\n",
    "\n",
    "import numpy as np # linear algebra\n",
    "import pandas as pd # data processing, CSV file I/O (e.g. pd.read_csv)\n",
    "\n",
    "# Input data files are available in the read-only \"../input/\" directory\n",
    "# For example, running this (by clicking run or pressing Shift+Enter) will list all files under the input directory\n",
    "\n",
    "import os\n",
    "for dirname, _, filenames in os.walk('/kaggle/input'):\n",
    "    for filename in filenames:\n",
    "        print(os.path.join(dirname, filename))\n",
    "\n",
    "# You can write up to 20GB to the current directory (/kaggle/working/) that gets preserved as output when you create a version using \"Save & Run All\" \n",
    "# You can also write temporary files to /kaggle/temp/, but they won't be saved outside of the current session"
   ]
  },
  {
   "cell_type": "markdown",
   "id": "4882b3cb",
   "metadata": {
    "papermill": {
     "duration": 0.00401,
     "end_time": "2025-09-03T13:04:36.178807",
     "exception": false,
     "start_time": "2025-09-03T13:04:36.174797",
     "status": "completed"
    },
    "tags": []
   },
   "source": [
    "We will solve multi-class classification using an ANN."
   ]
  },
  {
   "cell_type": "code",
   "execution_count": 2,
   "id": "5b27e443",
   "metadata": {
    "execution": {
     "iopub.execute_input": "2025-09-03T13:04:36.188433Z",
     "iopub.status.busy": "2025-09-03T13:04:36.188042Z",
     "iopub.status.idle": "2025-09-03T13:04:56.322185Z",
     "shell.execute_reply": "2025-09-03T13:04:56.321201Z"
    },
    "papermill": {
     "duration": 20.141051,
     "end_time": "2025-09-03T13:04:56.324049",
     "exception": false,
     "start_time": "2025-09-03T13:04:36.182998",
     "status": "completed"
    },
    "tags": []
   },
   "outputs": [
    {
     "name": "stderr",
     "output_type": "stream",
     "text": [
      "2025-09-03 13:04:38.365240: E external/local_xla/xla/stream_executor/cuda/cuda_fft.cc:477] Unable to register cuFFT factory: Attempting to register factory for plugin cuFFT when one has already been registered\n",
      "WARNING: All log messages before absl::InitializeLog() is called are written to STDERR\n",
      "E0000 00:00:1756904678.637723      13 cuda_dnn.cc:8310] Unable to register cuDNN factory: Attempting to register factory for plugin cuDNN when one has already been registered\n",
      "E0000 00:00:1756904678.711847      13 cuda_blas.cc:1418] Unable to register cuBLAS factory: Attempting to register factory for plugin cuBLAS when one has already been registered\n"
     ]
    }
   ],
   "source": [
    "import tensorflow as tf\n",
    "import keras\n",
    "from tensorflow.keras import Sequential\n",
    "from tensorflow.keras.layers import Dense,Flatten\n",
    "from tensorflow.keras import regularizers"
   ]
  },
  {
   "cell_type": "code",
   "execution_count": 3,
   "id": "15aee20c",
   "metadata": {
    "execution": {
     "iopub.execute_input": "2025-09-03T13:04:56.334966Z",
     "iopub.status.busy": "2025-09-03T13:04:56.334308Z",
     "iopub.status.idle": "2025-09-03T13:04:56.802339Z",
     "shell.execute_reply": "2025-09-03T13:04:56.801383Z"
    },
    "papermill": {
     "duration": 0.475287,
     "end_time": "2025-09-03T13:04:56.804250",
     "exception": false,
     "start_time": "2025-09-03T13:04:56.328963",
     "status": "completed"
    },
    "tags": []
   },
   "outputs": [
    {
     "name": "stdout",
     "output_type": "stream",
     "text": [
      "Downloading data from https://storage.googleapis.com/tensorflow/tf-keras-datasets/mnist.npz\n",
      "\u001b[1m11490434/11490434\u001b[0m \u001b[32m━━━━━━━━━━━━━━━━━━━━\u001b[0m\u001b[37m\u001b[0m \u001b[1m0s\u001b[0m 0us/step\n"
     ]
    }
   ],
   "source": [
    "(x_train,y_train),(x_test,y_test)=keras.datasets.mnist.load_data()"
   ]
  },
  {
   "cell_type": "code",
   "execution_count": 4,
   "id": "e06c8e03",
   "metadata": {
    "execution": {
     "iopub.execute_input": "2025-09-03T13:04:56.815691Z",
     "iopub.status.busy": "2025-09-03T13:04:56.815269Z",
     "iopub.status.idle": "2025-09-03T13:04:56.822626Z",
     "shell.execute_reply": "2025-09-03T13:04:56.821582Z"
    },
    "papermill": {
     "duration": 0.015175,
     "end_time": "2025-09-03T13:04:56.824328",
     "exception": false,
     "start_time": "2025-09-03T13:04:56.809153",
     "status": "completed"
    },
    "tags": []
   },
   "outputs": [
    {
     "data": {
      "text/plain": [
       "(60000, 28, 28)"
      ]
     },
     "execution_count": 4,
     "metadata": {},
     "output_type": "execute_result"
    }
   ],
   "source": [
    "x_train.shape"
   ]
  },
  {
   "cell_type": "code",
   "execution_count": 5,
   "id": "cc8e9f25",
   "metadata": {
    "execution": {
     "iopub.execute_input": "2025-09-03T13:04:56.835372Z",
     "iopub.status.busy": "2025-09-03T13:04:56.835016Z",
     "iopub.status.idle": "2025-09-03T13:04:56.841274Z",
     "shell.execute_reply": "2025-09-03T13:04:56.840300Z"
    },
    "papermill": {
     "duration": 0.013917,
     "end_time": "2025-09-03T13:04:56.843028",
     "exception": false,
     "start_time": "2025-09-03T13:04:56.829111",
     "status": "completed"
    },
    "tags": []
   },
   "outputs": [
    {
     "data": {
      "text/plain": [
       "(28, 28)"
      ]
     },
     "execution_count": 5,
     "metadata": {},
     "output_type": "execute_result"
    }
   ],
   "source": [
    "x_train[0].shape"
   ]
  },
  {
   "cell_type": "markdown",
   "id": "ea7bad2e",
   "metadata": {
    "papermill": {
     "duration": 0.004447,
     "end_time": "2025-09-03T13:04:56.852462",
     "exception": false,
     "start_time": "2025-09-03T13:04:56.848015",
     "status": "completed"
    },
    "tags": []
   },
   "source": [
    "These are pixel values:"
   ]
  },
  {
   "cell_type": "code",
   "execution_count": 6,
   "id": "a7a4a7a0",
   "metadata": {
    "execution": {
     "iopub.execute_input": "2025-09-03T13:04:56.865884Z",
     "iopub.status.busy": "2025-09-03T13:04:56.865529Z",
     "iopub.status.idle": "2025-09-03T13:04:56.872979Z",
     "shell.execute_reply": "2025-09-03T13:04:56.872129Z"
    },
    "papermill": {
     "duration": 0.017444,
     "end_time": "2025-09-03T13:04:56.874617",
     "exception": false,
     "start_time": "2025-09-03T13:04:56.857173",
     "status": "completed"
    },
    "tags": []
   },
   "outputs": [
    {
     "data": {
      "text/plain": [
       "array([[  0,   0,   0,   0,   0,   0,   0,   0,   0,   0,   0,   0,   0,\n",
       "          0,   0,   0,   0,   0,   0,   0,   0,   0,   0,   0,   0,   0,\n",
       "          0,   0],\n",
       "       [  0,   0,   0,   0,   0,   0,   0,   0,   0,   0,   0,   0,   0,\n",
       "          0,   0,   0,   0,   0,   0,   0,   0,   0,   0,   0,   0,   0,\n",
       "          0,   0],\n",
       "       [  0,   0,   0,   0,   0,   0,   0,   0,   0,   0,   0,   0,   0,\n",
       "          0,   0,   0,   0,   0,   0,   0,   0,   0,   0,   0,   0,   0,\n",
       "          0,   0],\n",
       "       [  0,   0,   0,   0,   0,   0,   0,   0,   0,   0,   0,   0,   0,\n",
       "          0,   0,   0,   0,   0,   0,   0,   0,   0,   0,   0,   0,   0,\n",
       "          0,   0],\n",
       "       [  0,   0,   0,   0,   0,   0,   0,   0,   0,   0,   0,   0,   0,\n",
       "          0,   0,   0,   0,   0,   0,   0,   0,   0,   0,   0,   0,   0,\n",
       "          0,   0],\n",
       "       [  0,   0,   0,   0,   0,   0,   0,   0,   0,   0,   0,   0,   3,\n",
       "         18,  18,  18, 126, 136, 175,  26, 166, 255, 247, 127,   0,   0,\n",
       "          0,   0],\n",
       "       [  0,   0,   0,   0,   0,   0,   0,   0,  30,  36,  94, 154, 170,\n",
       "        253, 253, 253, 253, 253, 225, 172, 253, 242, 195,  64,   0,   0,\n",
       "          0,   0],\n",
       "       [  0,   0,   0,   0,   0,   0,   0,  49, 238, 253, 253, 253, 253,\n",
       "        253, 253, 253, 253, 251,  93,  82,  82,  56,  39,   0,   0,   0,\n",
       "          0,   0],\n",
       "       [  0,   0,   0,   0,   0,   0,   0,  18, 219, 253, 253, 253, 253,\n",
       "        253, 198, 182, 247, 241,   0,   0,   0,   0,   0,   0,   0,   0,\n",
       "          0,   0],\n",
       "       [  0,   0,   0,   0,   0,   0,   0,   0,  80, 156, 107, 253, 253,\n",
       "        205,  11,   0,  43, 154,   0,   0,   0,   0,   0,   0,   0,   0,\n",
       "          0,   0],\n",
       "       [  0,   0,   0,   0,   0,   0,   0,   0,   0,  14,   1, 154, 253,\n",
       "         90,   0,   0,   0,   0,   0,   0,   0,   0,   0,   0,   0,   0,\n",
       "          0,   0],\n",
       "       [  0,   0,   0,   0,   0,   0,   0,   0,   0,   0,   0, 139, 253,\n",
       "        190,   2,   0,   0,   0,   0,   0,   0,   0,   0,   0,   0,   0,\n",
       "          0,   0],\n",
       "       [  0,   0,   0,   0,   0,   0,   0,   0,   0,   0,   0,  11, 190,\n",
       "        253,  70,   0,   0,   0,   0,   0,   0,   0,   0,   0,   0,   0,\n",
       "          0,   0],\n",
       "       [  0,   0,   0,   0,   0,   0,   0,   0,   0,   0,   0,   0,  35,\n",
       "        241, 225, 160, 108,   1,   0,   0,   0,   0,   0,   0,   0,   0,\n",
       "          0,   0],\n",
       "       [  0,   0,   0,   0,   0,   0,   0,   0,   0,   0,   0,   0,   0,\n",
       "         81, 240, 253, 253, 119,  25,   0,   0,   0,   0,   0,   0,   0,\n",
       "          0,   0],\n",
       "       [  0,   0,   0,   0,   0,   0,   0,   0,   0,   0,   0,   0,   0,\n",
       "          0,  45, 186, 253, 253, 150,  27,   0,   0,   0,   0,   0,   0,\n",
       "          0,   0],\n",
       "       [  0,   0,   0,   0,   0,   0,   0,   0,   0,   0,   0,   0,   0,\n",
       "          0,   0,  16,  93, 252, 253, 187,   0,   0,   0,   0,   0,   0,\n",
       "          0,   0],\n",
       "       [  0,   0,   0,   0,   0,   0,   0,   0,   0,   0,   0,   0,   0,\n",
       "          0,   0,   0,   0, 249, 253, 249,  64,   0,   0,   0,   0,   0,\n",
       "          0,   0],\n",
       "       [  0,   0,   0,   0,   0,   0,   0,   0,   0,   0,   0,   0,   0,\n",
       "          0,  46, 130, 183, 253, 253, 207,   2,   0,   0,   0,   0,   0,\n",
       "          0,   0],\n",
       "       [  0,   0,   0,   0,   0,   0,   0,   0,   0,   0,   0,   0,  39,\n",
       "        148, 229, 253, 253, 253, 250, 182,   0,   0,   0,   0,   0,   0,\n",
       "          0,   0],\n",
       "       [  0,   0,   0,   0,   0,   0,   0,   0,   0,   0,  24, 114, 221,\n",
       "        253, 253, 253, 253, 201,  78,   0,   0,   0,   0,   0,   0,   0,\n",
       "          0,   0],\n",
       "       [  0,   0,   0,   0,   0,   0,   0,   0,  23,  66, 213, 253, 253,\n",
       "        253, 253, 198,  81,   2,   0,   0,   0,   0,   0,   0,   0,   0,\n",
       "          0,   0],\n",
       "       [  0,   0,   0,   0,   0,   0,  18, 171, 219, 253, 253, 253, 253,\n",
       "        195,  80,   9,   0,   0,   0,   0,   0,   0,   0,   0,   0,   0,\n",
       "          0,   0],\n",
       "       [  0,   0,   0,   0,  55, 172, 226, 253, 253, 253, 253, 244, 133,\n",
       "         11,   0,   0,   0,   0,   0,   0,   0,   0,   0,   0,   0,   0,\n",
       "          0,   0],\n",
       "       [  0,   0,   0,   0, 136, 253, 253, 253, 212, 135, 132,  16,   0,\n",
       "          0,   0,   0,   0,   0,   0,   0,   0,   0,   0,   0,   0,   0,\n",
       "          0,   0],\n",
       "       [  0,   0,   0,   0,   0,   0,   0,   0,   0,   0,   0,   0,   0,\n",
       "          0,   0,   0,   0,   0,   0,   0,   0,   0,   0,   0,   0,   0,\n",
       "          0,   0],\n",
       "       [  0,   0,   0,   0,   0,   0,   0,   0,   0,   0,   0,   0,   0,\n",
       "          0,   0,   0,   0,   0,   0,   0,   0,   0,   0,   0,   0,   0,\n",
       "          0,   0],\n",
       "       [  0,   0,   0,   0,   0,   0,   0,   0,   0,   0,   0,   0,   0,\n",
       "          0,   0,   0,   0,   0,   0,   0,   0,   0,   0,   0,   0,   0,\n",
       "          0,   0]], dtype=uint8)"
      ]
     },
     "execution_count": 6,
     "metadata": {},
     "output_type": "execute_result"
    }
   ],
   "source": [
    "x_train[0]"
   ]
  },
  {
   "cell_type": "code",
   "execution_count": 7,
   "id": "8dfb2df7",
   "metadata": {
    "execution": {
     "iopub.execute_input": "2025-09-03T13:04:56.885777Z",
     "iopub.status.busy": "2025-09-03T13:04:56.885422Z",
     "iopub.status.idle": "2025-09-03T13:04:56.891356Z",
     "shell.execute_reply": "2025-09-03T13:04:56.890551Z"
    },
    "papermill": {
     "duration": 0.013433,
     "end_time": "2025-09-03T13:04:56.893015",
     "exception": false,
     "start_time": "2025-09-03T13:04:56.879582",
     "status": "completed"
    },
    "tags": []
   },
   "outputs": [
    {
     "data": {
      "text/plain": [
       "(10000, 28, 28)"
      ]
     },
     "execution_count": 7,
     "metadata": {},
     "output_type": "execute_result"
    }
   ],
   "source": [
    "x_test.shape"
   ]
  },
  {
   "cell_type": "code",
   "execution_count": 8,
   "id": "d2cb99a3",
   "metadata": {
    "execution": {
     "iopub.execute_input": "2025-09-03T13:04:56.904197Z",
     "iopub.status.busy": "2025-09-03T13:04:56.903860Z",
     "iopub.status.idle": "2025-09-03T13:04:56.910471Z",
     "shell.execute_reply": "2025-09-03T13:04:56.909510Z"
    },
    "papermill": {
     "duration": 0.013944,
     "end_time": "2025-09-03T13:04:56.912027",
     "exception": false,
     "start_time": "2025-09-03T13:04:56.898083",
     "status": "completed"
    },
    "tags": []
   },
   "outputs": [
    {
     "data": {
      "text/plain": [
       "5"
      ]
     },
     "execution_count": 8,
     "metadata": {},
     "output_type": "execute_result"
    }
   ],
   "source": [
    "y_train[0]"
   ]
  },
  {
   "cell_type": "code",
   "execution_count": 9,
   "id": "fc663071",
   "metadata": {
    "execution": {
     "iopub.execute_input": "2025-09-03T13:04:56.923419Z",
     "iopub.status.busy": "2025-09-03T13:04:56.923093Z",
     "iopub.status.idle": "2025-09-03T13:04:57.236741Z",
     "shell.execute_reply": "2025-09-03T13:04:57.235722Z"
    },
    "papermill": {
     "duration": 0.321513,
     "end_time": "2025-09-03T13:04:57.238603",
     "exception": false,
     "start_time": "2025-09-03T13:04:56.917090",
     "status": "completed"
    },
    "tags": []
   },
   "outputs": [
    {
     "data": {
      "text/plain": [
       "<matplotlib.image.AxesImage at 0x7afc8eeb3a10>"
      ]
     },
     "execution_count": 9,
     "metadata": {},
     "output_type": "execute_result"
    },
    {
     "data": {
      "image/png": "[encoded data removed]",
      "text/plain": [
       "<Figure size 640x480 with 1 Axes>"
      ]
     },
     "metadata": {},
     "output_type": "display_data"
    }
   ],
   "source": [
    "import matplotlib.pyplot as plt\n",
    "plt.imshow(x_train[0])"
   ]
  },
  {
   "cell_type": "markdown",
   "id": "92e455d4",
   "metadata": {
    "papermill": {
     "duration": 0.005093,
     "end_time": "2025-09-03T13:04:57.250099",
     "exception": false,
     "start_time": "2025-09-03T13:04:57.245006",
     "status": "completed"
    },
    "tags": []
   },
   "source": [
    "As pixel values are 255 so we will divide it by 255 so our pixel values can be normalized between 0-1"
   ]
  },
  {
   "cell_type": "code",
   "execution_count": 10,
   "id": "71118c77",
   "metadata": {
    "execution": {
     "iopub.execute_input": "2025-09-03T13:04:57.262519Z",
     "iopub.status.busy": "2025-09-03T13:04:57.262159Z",
     "iopub.status.idle": "2025-09-03T13:04:57.527660Z",
     "shell.execute_reply": "2025-09-03T13:04:57.526709Z"
    },
    "papermill": {
     "duration": 0.273443,
     "end_time": "2025-09-03T13:04:57.529343",
     "exception": false,
     "start_time": "2025-09-03T13:04:57.255900",
     "status": "completed"
    },
    "tags": []
   },
   "outputs": [],
   "source": [
    "x_train=x_train/255\n",
    "x_test=x_test/255"
   ]
  },
  {
   "cell_type": "code",
   "execution_count": 11,
   "id": "572caf21",
   "metadata": {
    "execution": {
     "iopub.execute_input": "2025-09-03T13:04:57.542058Z",
     "iopub.status.busy": "2025-09-03T13:04:57.541320Z",
     "iopub.status.idle": "2025-09-03T13:04:57.630529Z",
     "shell.execute_reply": "2025-09-03T13:04:57.629398Z"
    },
    "papermill": {
     "duration": 0.097187,
     "end_time": "2025-09-03T13:04:57.632177",
     "exception": false,
     "start_time": "2025-09-03T13:04:57.534990",
     "status": "completed"
    },
    "tags": []
   },
   "outputs": [
    {
     "name": "stderr",
     "output_type": "stream",
     "text": [
      "/usr/local/lib/python3.11/dist-packages/keras/src/layers/reshaping/flatten.py:37: UserWarning: Do not pass an `input_shape`/`input_dim` argument to a layer. When using Sequential models, prefer using an `Input(shape)` object as the first layer in the model instead.\n",
      "  super().__init__(**kwargs)\n",
      "2025-09-03 13:04:57.555879: E external/local_xla/xla/stream_executor/cuda/cuda_driver.cc:152] failed call to cuInit: INTERNAL: CUDA error: Failed call to cuInit: UNKNOWN ERROR (303)\n"
     ]
    }
   ],
   "source": [
    "model=Sequential()\n",
    "model.add(Flatten(input_shape=(28,28))), #flattening into 1d vector\n",
    "model.add(Dense(128,activation='relu',kernel_regularizer=regularizers.l2(0.001))),\n",
    "model.add(Dense(10,activation='softmax'))\n"
   ]
  },
  {
   "cell_type": "code",
   "execution_count": 12,
   "id": "ba291ca8",
   "metadata": {
    "execution": {
     "iopub.execute_input": "2025-09-03T13:04:57.644206Z",
     "iopub.status.busy": "2025-09-03T13:04:57.643870Z",
     "iopub.status.idle": "2025-09-03T13:04:57.664267Z",
     "shell.execute_reply": "2025-09-03T13:04:57.662287Z"
    },
    "papermill": {
     "duration": 0.028333,
     "end_time": "2025-09-03T13:04:57.665973",
     "exception": false,
     "start_time": "2025-09-03T13:04:57.637640",
     "status": "completed"
    },
    "tags": []
   },
   "outputs": [
    {
     "data": {
      "text/html": [
       "<pre style=\"white-space:pre;overflow-x:auto;line-height:normal;font-family:Menlo,'DejaVu Sans Mono',consolas,'Courier New',monospace\"><span style=\"font-weight: bold\">Model: \"sequential\"</span>\n",
       "</pre>\n"
      ],
      "text/plain": [
       "\u001b[1mModel: \"sequential\"\u001b[0m\n"
      ]
     },
     "metadata": {},
     "output_type": "display_data"
    },
    {
     "data": {
      "text/html": [
       "<pre style=\"white-space:pre;overflow-x:auto;line-height:normal;font-family:Menlo,'DejaVu Sans Mono',consolas,'Courier New',monospace\">┏━━━━━━━━━━━━━━━━━━━━━━━━━━━━━━━━━┳━━━━━━━━━━━━━━━━━━━━━━━━┳━━━━━━━━━━━━━━━┓\n",
       "┃<span style=\"font-weight: bold\"> Layer (type)                    </span>┃<span style=\"font-weight: bold\"> Output Shape           </span>┃<span style=\"font-weight: bold\">       Param # </span>┃\n",
       "┡━━━━━━━━━━━━━━━━━━━━━━━━━━━━━━━━━╇━━━━━━━━━━━━━━━━━━━━━━━━╇━━━━━━━━━━━━━━━┩\n",
       "│ flatten (<span style=\"color: #0087ff; text-decoration-color: #0087ff\">Flatten</span>)               │ (<span style=\"color: #00d7ff; text-decoration-color: #00d7ff\">None</span>, <span style=\"color: #00af00; text-decoration-color: #00af00\">784</span>)            │             <span style=\"color: #00af00; text-decoration-color: #00af00\">0</span> │\n",
       "├─────────────────────────────────┼────────────────────────┼───────────────┤\n",
       "│ dense (<span style=\"color: #0087ff; text-decoration-color: #0087ff\">Dense</span>)                   │ (<span style=\"color: #00d7ff; text-decoration-color: #00d7ff\">None</span>, <span style=\"color: #00af00; text-decoration-color: #00af00\">128</span>)            │       <span style=\"color: #00af00; text-decoration-color: #00af00\">100,480</span> │\n",
       "├─────────────────────────────────┼────────────────────────┼───────────────┤\n",
       "│ dense_1 (<span style=\"color: #0087ff; text-decoration-color: #0087ff\">Dense</span>)                 │ (<span style=\"color: #00d7ff; text-decoration-color: #00d7ff\">None</span>, <span style=\"color: #00af00; text-decoration-color: #00af00\">10</span>)             │         <span style=\"color: #00af00; text-decoration-color: #00af00\">1,290</span> │\n",
       "└─────────────────────────────────┴────────────────────────┴───────────────┘\n",
       "</pre>\n"
      ],
      "text/plain": [
       "┏━━━━━━━━━━━━━━━━━━━━━━━━━━━━━━━━━┳━━━━━━━━━━━━━━━━━━━━━━━━┳━━━━━━━━━━━━━━━┓\n",
       "┃\u001b[1m \u001b[0m\u001b[1mLayer (type)                   \u001b[0m\u001b[1m \u001b[0m┃\u001b[1m \u001b[0m\u001b[1mOutput Shape          \u001b[0m\u001b[1m \u001b[0m┃\u001b[1m \u001b[0m\u001b[1m      Param #\u001b[0m\u001b[1m \u001b[0m┃\n",
       "┡━━━━━━━━━━━━━━━━━━━━━━━━━━━━━━━━━╇━━━━━━━━━━━━━━━━━━━━━━━━╇━━━━━━━━━━━━━━━┩\n",
       "│ flatten (\u001b[38;5;33mFlatten\u001b[0m)               │ (\u001b[38;5;45mNone\u001b[0m, \u001b[38;5;34m784\u001b[0m)            │             \u001b[38;5;34m0\u001b[0m │\n",
       "├─────────────────────────────────┼────────────────────────┼───────────────┤\n",
       "│ dense (\u001b[38;5;33mDense\u001b[0m)                   │ (\u001b[38;5;45mNone\u001b[0m, \u001b[38;5;34m128\u001b[0m)            │       \u001b[38;5;34m100,480\u001b[0m │\n",
       "├─────────────────────────────────┼────────────────────────┼───────────────┤\n",
       "│ dense_1 (\u001b[38;5;33mDense\u001b[0m)                 │ (\u001b[38;5;45mNone\u001b[0m, \u001b[38;5;34m10\u001b[0m)             │         \u001b[38;5;34m1,290\u001b[0m │\n",
       "└─────────────────────────────────┴────────────────────────┴───────────────┘\n"
      ]
     },
     "metadata": {},
     "output_type": "display_data"
    },
    {
     "data": {
      "text/html": [
       "<pre style=\"white-space:pre;overflow-x:auto;line-height:normal;font-family:Menlo,'DejaVu Sans Mono',consolas,'Courier New',monospace\"><span style=\"font-weight: bold\"> Total params: </span><span style=\"color: #00af00; text-decoration-color: #00af00\">101,770</span> (397.54 KB)\n",
       "</pre>\n"
      ],
      "text/plain": [
       "\u001b[1m Total params: \u001b[0m\u001b[38;5;34m101,770\u001b[0m (397.54 KB)\n"
      ]
     },
     "metadata": {},
     "output_type": "display_data"
    },
    {
     "data": {
      "text/html": [
       "<pre style=\"white-space:pre;overflow-x:auto;line-height:normal;font-family:Menlo,'DejaVu Sans Mono',consolas,'Courier New',monospace\"><span style=\"font-weight: bold\"> Trainable params: </span><span style=\"color: #00af00; text-decoration-color: #00af00\">101,770</span> (397.54 KB)\n",
       "</pre>\n"
      ],
      "text/plain": [
       "\u001b[1m Trainable params: \u001b[0m\u001b[38;5;34m101,770\u001b[0m (397.54 KB)\n"
      ]
     },
     "metadata": {},
     "output_type": "display_data"
    },
    {
     "data": {
      "text/html": [
       "<pre style=\"white-space:pre;overflow-x:auto;line-height:normal;font-family:Menlo,'DejaVu Sans Mono',consolas,'Courier New',monospace\"><span style=\"font-weight: bold\"> Non-trainable params: </span><span style=\"color: #00af00; text-decoration-color: #00af00\">0</span> (0.00 B)\n",
       "</pre>\n"
      ],
      "text/plain": [
       "\u001b[1m Non-trainable params: \u001b[0m\u001b[38;5;34m0\u001b[0m (0.00 B)\n"
      ]
     },
     "metadata": {},
     "output_type": "display_data"
    }
   ],
   "source": [
    "model.summary()"
   ]
  },
  {
   "cell_type": "code",
   "execution_count": 13,
   "id": "540a72aa",
   "metadata": {
    "execution": {
     "iopub.execute_input": "2025-09-03T13:04:57.679170Z",
     "iopub.status.busy": "2025-09-03T13:04:57.678788Z",
     "iopub.status.idle": "2025-09-03T13:04:57.695293Z",
     "shell.execute_reply": "2025-09-03T13:04:57.694047Z"
    },
    "papermill": {
     "duration": 0.025236,
     "end_time": "2025-09-03T13:04:57.697225",
     "exception": false,
     "start_time": "2025-09-03T13:04:57.671989",
     "status": "completed"
    },
    "tags": []
   },
   "outputs": [],
   "source": [
    "model.compile(loss='sparse_categorical_crossentropy',optimizer='Adam',metrics=['accuracy'])"
   ]
  },
  {
   "cell_type": "code",
   "execution_count": 14,
   "id": "5159e5b1",
   "metadata": {
    "execution": {
     "iopub.execute_input": "2025-09-03T13:04:57.711124Z",
     "iopub.status.busy": "2025-09-03T13:04:57.710229Z",
     "iopub.status.idle": "2025-09-03T13:04:57.718178Z",
     "shell.execute_reply": "2025-09-03T13:04:57.717103Z"
    },
    "papermill": {
     "duration": 0.016572,
     "end_time": "2025-09-03T13:04:57.719716",
     "exception": false,
     "start_time": "2025-09-03T13:04:57.703144",
     "status": "completed"
    },
    "tags": []
   },
   "outputs": [],
   "source": [
    "from tensorflow.keras.callbacks import EarlyStopping\n",
    "callback = EarlyStopping(\n",
    "    monitor='val_loss',      # what to monitor (can also use 'val_accuracy')\n",
    "    patience=5,              # stop if no improvement for 5 epochs\n",
    "    restore_best_weights=True  # rollback to best model\n",
    ")"
   ]
  },
  {
   "cell_type": "code",
   "execution_count": 15,
   "id": "a9828407",
   "metadata": {
    "execution": {
     "iopub.execute_input": "2025-09-03T13:04:57.733462Z",
     "iopub.status.busy": "2025-09-03T13:04:57.732558Z",
     "iopub.status.idle": "2025-09-03T13:04:57.738176Z",
     "shell.execute_reply": "2025-09-03T13:04:57.737230Z"
    },
    "papermill": {
     "duration": 0.014099,
     "end_time": "2025-09-03T13:04:57.739843",
     "exception": false,
     "start_time": "2025-09-03T13:04:57.725744",
     "status": "completed"
    },
    "tags": []
   },
   "outputs": [
    {
     "name": "stdout",
     "output_type": "stream",
     "text": [
      "(60000, 28, 28) (60000,)\n"
     ]
    }
   ],
   "source": [
    "print(x_train.shape, y_train.shape)\n"
   ]
  },
  {
   "cell_type": "code",
   "execution_count": 16,
   "id": "718c8f2c",
   "metadata": {
    "execution": {
     "iopub.execute_input": "2025-09-03T13:04:57.753235Z",
     "iopub.status.busy": "2025-09-03T13:04:57.752892Z",
     "iopub.status.idle": "2025-09-03T13:06:44.701953Z",
     "shell.execute_reply": "2025-09-03T13:06:44.700674Z"
    },
    "papermill": {
     "duration": 106.957747,
     "end_time": "2025-09-03T13:06:44.703667",
     "exception": false,
     "start_time": "2025-09-03T13:04:57.745920",
     "status": "completed"
    },
    "tags": []
   },
   "outputs": [
    {
     "name": "stdout",
     "output_type": "stream",
     "text": [
      "Epoch 1/50\n",
      "\u001b[1m1500/1500\u001b[0m \u001b[32m━━━━━━━━━━━━━━━━━━━━\u001b[0m\u001b[37m\u001b[0m \u001b[1m8s\u001b[0m 4ms/step - accuracy: 0.8703 - loss: 0.6007 - val_accuracy: 0.9525 - val_loss: 0.2668\n",
      "Epoch 2/50\n",
      "\u001b[1m1500/1500\u001b[0m \u001b[32m━━━━━━━━━━━━━━━━━━━━\u001b[0m\u001b[37m\u001b[0m \u001b[1m6s\u001b[0m 4ms/step - accuracy: 0.9513 - loss: 0.2580 - val_accuracy: 0.9595 - val_loss: 0.2289\n",
      "Epoch 3/50\n",
      "\u001b[1m1500/1500\u001b[0m \u001b[32m━━━━━━━━━━━━━━━━━━━━\u001b[0m\u001b[37m\u001b[0m \u001b[1m6s\u001b[0m 4ms/step - accuracy: 0.9628 - loss: 0.2120 - val_accuracy: 0.9650 - val_loss: 0.2022\n",
      "Epoch 4/50\n",
      "\u001b[1m1500/1500\u001b[0m \u001b[32m━━━━━━━━━━━━━━━━━━━━\u001b[0m\u001b[37m\u001b[0m \u001b[1m6s\u001b[0m 4ms/step - accuracy: 0.9664 - loss: 0.1916 - val_accuracy: 0.9703 - val_loss: 0.1841\n",
      "Epoch 5/50\n",
      "\u001b[1m1500/1500\u001b[0m \u001b[32m━━━━━━━━━━━━━━━━━━━━\u001b[0m\u001b[37m\u001b[0m \u001b[1m6s\u001b[0m 4ms/step - accuracy: 0.9682 - loss: 0.1847 - val_accuracy: 0.9688 - val_loss: 0.1780\n",
      "Epoch 6/50\n",
      "\u001b[1m1500/1500\u001b[0m \u001b[32m━━━━━━━━━━━━━━━━━━━━\u001b[0m\u001b[37m\u001b[0m \u001b[1m6s\u001b[0m 4ms/step - accuracy: 0.9720 - loss: 0.1710 - val_accuracy: 0.9700 - val_loss: 0.1742\n",
      "Epoch 7/50\n",
      "\u001b[1m1500/1500\u001b[0m \u001b[32m━━━━━━━━━━━━━━━━━━━━\u001b[0m\u001b[37m\u001b[0m \u001b[1m6s\u001b[0m 4ms/step - accuracy: 0.9741 - loss: 0.1630 - val_accuracy: 0.9644 - val_loss: 0.1963\n",
      "Epoch 8/50\n",
      "\u001b[1m1500/1500\u001b[0m \u001b[32m━━━━━━━━━━━━━━━━━━━━\u001b[0m\u001b[37m\u001b[0m \u001b[1m6s\u001b[0m 4ms/step - accuracy: 0.9735 - loss: 0.1591 - val_accuracy: 0.9712 - val_loss: 0.1713\n",
      "Epoch 9/50\n",
      "\u001b[1m1500/1500\u001b[0m \u001b[32m━━━━━━━━━━━━━━━━━━━━\u001b[0m\u001b[37m\u001b[0m \u001b[1m6s\u001b[0m 4ms/step - accuracy: 0.9744 - loss: 0.1578 - val_accuracy: 0.9662 - val_loss: 0.1830\n",
      "Epoch 10/50\n",
      "\u001b[1m1500/1500\u001b[0m \u001b[32m━━━━━━━━━━━━━━━━━━━━\u001b[0m\u001b[37m\u001b[0m \u001b[1m6s\u001b[0m 4ms/step - accuracy: 0.9769 - loss: 0.1507 - val_accuracy: 0.9704 - val_loss: 0.1701\n",
      "Epoch 11/50\n",
      "\u001b[1m1500/1500\u001b[0m \u001b[32m━━━━━━━━━━━━━━━━━━━━\u001b[0m\u001b[37m\u001b[0m \u001b[1m6s\u001b[0m 4ms/step - accuracy: 0.9776 - loss: 0.1440 - val_accuracy: 0.9709 - val_loss: 0.1660\n",
      "Epoch 12/50\n",
      "\u001b[1m1500/1500\u001b[0m \u001b[32m━━━━━━━━━━━━━━━━━━━━\u001b[0m\u001b[37m\u001b[0m \u001b[1m6s\u001b[0m 4ms/step - accuracy: 0.9768 - loss: 0.1450 - val_accuracy: 0.9731 - val_loss: 0.1596\n",
      "Epoch 13/50\n",
      "\u001b[1m1500/1500\u001b[0m \u001b[32m━━━━━━━━━━━━━━━━━━━━\u001b[0m\u001b[37m\u001b[0m \u001b[1m6s\u001b[0m 4ms/step - accuracy: 0.9780 - loss: 0.1424 - val_accuracy: 0.9667 - val_loss: 0.1732\n",
      "Epoch 14/50\n",
      "\u001b[1m1500/1500\u001b[0m \u001b[32m━━━━━━━━━━━━━━━━━━━━\u001b[0m\u001b[37m\u001b[0m \u001b[1m6s\u001b[0m 4ms/step - accuracy: 0.9786 - loss: 0.1393 - val_accuracy: 0.9672 - val_loss: 0.1727\n",
      "Epoch 15/50\n",
      "\u001b[1m1500/1500\u001b[0m \u001b[32m━━━━━━━━━━━━━━━━━━━━\u001b[0m\u001b[37m\u001b[0m \u001b[1m6s\u001b[0m 4ms/step - accuracy: 0.9786 - loss: 0.1392 - val_accuracy: 0.9700 - val_loss: 0.1692\n",
      "Epoch 16/50\n",
      "\u001b[1m1500/1500\u001b[0m \u001b[32m━━━━━━━━━━━━━━━━━━━━\u001b[0m\u001b[37m\u001b[0m \u001b[1m6s\u001b[0m 4ms/step - accuracy: 0.9804 - loss: 0.1354 - val_accuracy: 0.9680 - val_loss: 0.1751\n",
      "Epoch 17/50\n",
      "\u001b[1m1500/1500\u001b[0m \u001b[32m━━━━━━━━━━━━━━━━━━━━\u001b[0m\u001b[37m\u001b[0m \u001b[1m6s\u001b[0m 4ms/step - accuracy: 0.9794 - loss: 0.1365 - val_accuracy: 0.9695 - val_loss: 0.1740\n"
     ]
    }
   ],
   "source": [
    "history=model.fit(x_train,y_train,epochs=50,validation_split=0.2,callbacks=[callback],batch_size=32)"
   ]
  },
  {
   "cell_type": "code",
   "execution_count": 17,
   "id": "2b121c57",
   "metadata": {
    "execution": {
     "iopub.execute_input": "2025-09-03T13:06:44.903263Z",
     "iopub.status.busy": "2025-09-03T13:06:44.902127Z",
     "iopub.status.idle": "2025-09-03T13:06:45.886148Z",
     "shell.execute_reply": "2025-09-03T13:06:45.885071Z"
    },
    "papermill": {
     "duration": 1.084679,
     "end_time": "2025-09-03T13:06:45.888132",
     "exception": false,
     "start_time": "2025-09-03T13:06:44.803453",
     "status": "completed"
    },
    "tags": []
   },
   "outputs": [
    {
     "name": "stdout",
     "output_type": "stream",
     "text": [
      "\u001b[1m313/313\u001b[0m \u001b[32m━━━━━━━━━━━━━━━━━━━━\u001b[0m\u001b[37m\u001b[0m \u001b[1m1s\u001b[0m 2ms/step\n"
     ]
    },
    {
     "data": {
      "text/plain": [
       "array([[4.8874608e-07, 1.2277243e-07, 7.4702170e-06, ..., 9.9993795e-01,\n",
       "        2.5397199e-07, 7.6272290e-06],\n",
       "       [6.9709349e-06, 4.7799113e-05, 9.9886096e-01, ..., 5.7369154e-09,\n",
       "        1.6975930e-05, 6.6470951e-10],\n",
       "       [5.3848504e-05, 9.8967594e-01, 1.5186662e-03, ..., 4.1586780e-03,\n",
       "        2.5914193e-03, 1.0044186e-04],\n",
       "       ...,\n",
       "       [1.3508615e-09, 2.5528781e-08, 9.8959985e-10, ..., 9.2260816e-06,\n",
       "        1.0197895e-06, 4.0952538e-05],\n",
       "       [1.8697607e-05, 4.4709384e-07, 4.2930957e-09, ..., 2.4876383e-07,\n",
       "        1.9225492e-03, 1.5009534e-06],\n",
       "       [2.2338152e-04, 3.3646563e-07, 4.7564161e-05, ..., 6.6321748e-09,\n",
       "        1.3625385e-07, 5.3716008e-07]], dtype=float32)"
      ]
     },
     "execution_count": 17,
     "metadata": {},
     "output_type": "execute_result"
    }
   ],
   "source": [
    "model.predict(x_test)"
   ]
  },
  {
   "cell_type": "markdown",
   "id": "d34f0256",
   "metadata": {
    "papermill": {
     "duration": 0.10225,
     "end_time": "2025-09-03T13:06:46.091727",
     "exception": false,
     "start_time": "2025-09-03T13:06:45.989477",
     "status": "completed"
    },
    "tags": []
   },
   "source": [
    "This predicts the probability of an image being for all classes (0-9)"
   ]
  },
  {
   "cell_type": "code",
   "execution_count": 18,
   "id": "a447a4c9",
   "metadata": {
    "execution": {
     "iopub.execute_input": "2025-09-03T13:06:46.303749Z",
     "iopub.status.busy": "2025-09-03T13:06:46.303356Z",
     "iopub.status.idle": "2025-09-03T13:06:47.112430Z",
     "shell.execute_reply": "2025-09-03T13:06:47.111309Z"
    },
    "papermill": {
     "duration": 0.920986,
     "end_time": "2025-09-03T13:06:47.114249",
     "exception": false,
     "start_time": "2025-09-03T13:06:46.193263",
     "status": "completed"
    },
    "tags": []
   },
   "outputs": [
    {
     "name": "stdout",
     "output_type": "stream",
     "text": [
      "\u001b[1m313/313\u001b[0m \u001b[32m━━━━━━━━━━━━━━━━━━━━\u001b[0m\u001b[37m\u001b[0m \u001b[1m1s\u001b[0m 2ms/step\n"
     ]
    },
    {
     "data": {
      "text/plain": [
       "array([7, 2, 1, ..., 4, 5, 6])"
      ]
     },
     "execution_count": 18,
     "metadata": {},
     "output_type": "execute_result"
    }
   ],
   "source": [
    "y_prob=model.predict(x_test)\n",
    "y_prob.argmax(axis=1)"
   ]
  },
  {
   "cell_type": "code",
   "execution_count": 19,
   "id": "abba20c0",
   "metadata": {
    "execution": {
     "iopub.execute_input": "2025-09-03T13:06:47.318823Z",
     "iopub.status.busy": "2025-09-03T13:06:47.318425Z",
     "iopub.status.idle": "2025-09-03T13:06:47.324902Z",
     "shell.execute_reply": "2025-09-03T13:06:47.323856Z"
    },
    "papermill": {
     "duration": 0.108476,
     "end_time": "2025-09-03T13:06:47.326447",
     "exception": false,
     "start_time": "2025-09-03T13:06:47.217971",
     "status": "completed"
    },
    "tags": []
   },
   "outputs": [
    {
     "name": "stdout",
     "output_type": "stream",
     "text": [
      "Predicted: [7 2 1 0 4 1 4 9 5 9 0 6 9 0 1 5 9 7 3 4]\n",
      "Actual:    [7 2 1 0 4 1 4 9 5 9 0 6 9 0 1 5 9 7 3 4]\n"
     ]
    }
   ],
   "source": [
    "print(\"Predicted:\", y_prob[:20].argmax(axis=1))\n",
    "print(\"Actual:   \", y_test[:20])\n"
   ]
  },
  {
   "cell_type": "code",
   "execution_count": 20,
   "id": "d6b95e2a",
   "metadata": {
    "execution": {
     "iopub.execute_input": "2025-09-03T13:06:47.521054Z",
     "iopub.status.busy": "2025-09-03T13:06:47.520159Z",
     "iopub.status.idle": "2025-09-03T13:06:47.705975Z",
     "shell.execute_reply": "2025-09-03T13:06:47.704912Z"
    },
    "papermill": {
     "duration": 0.283718,
     "end_time": "2025-09-03T13:06:47.707619",
     "exception": false,
     "start_time": "2025-09-03T13:06:47.423901",
     "status": "completed"
    },
    "tags": []
   },
   "outputs": [
    {
     "data": {
      "text/plain": [
       "[<matplotlib.lines.Line2D at 0x7afc5818c090>]"
      ]
     },
     "execution_count": 20,
     "metadata": {},
     "output_type": "execute_result"
    },
    {
     "data": {
      "image/png": "[encoded data removed]",
      "text/plain": [
       "<Figure size 640x480 with 1 Axes>"
      ]
     },
     "metadata": {},
     "output_type": "display_data"
    }
   ],
   "source": [
    "plt.plot(history.history['loss'])\n",
    "plt.plot(history.history['val_loss'])"
   ]
  }
 ],
 "metadata": {
  "kaggle": {
   "accelerator": "none",
   "dataSources": [],
   "dockerImageVersionId": 31089,
   "isGpuEnabled": false,
   "isInternetEnabled": true,
   "language": "python",
   "sourceType": "notebook"
  },
  "kernelspec": {
   "display_name": "Python 3",
   "language": "python",
   "name": "python3"
  },
  "language_info": {
   "codemirror_mode": {
    "name": "ipython",
    "version": 3
   },
   "file_extension": ".py",
   "mimetype": "text/x-python",
   "name": "python",
   "nbconvert_exporter": "python",
   "pygments_lexer": "ipython3",
   "version": "3.11.13"
  },
  "papermill": {
   "default_parameters": {},
   "duration": 142.955915,
   "end_time": "2025-09-03T13:06:51.195613",
   "environment_variables": {},
   "exception": null,
   "input_path": "__notebook__.ipynb",
   "output_path": "__notebook__.ipynb",
   "parameters": {},
   "start_time": "2025-09-03T13:04:28.239698",
   "version": "2.6.0"
  }
 },
 "nbformat": 4,
 "nbformat_minor": 5
}
